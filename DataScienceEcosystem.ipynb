{
    "cells": [
        {
            "metadata": {
                "collapsed": true
            },
            "cell_type": "markdown",
            "source": "# Data Science Tools and Ecosystem"
        },
        {
            "metadata": {},
            "cell_type": "markdown",
            "source": "In this notebook, Data Science Tools and Ecosystem are summarized."
        },
        {
            "metadata": {},
            "cell_type": "markdown",
            "source": "**Objectives:**\n - Listing popular data science languages\n - Listing popular data science libraries\n - Creating a table of popular data science tools\n - Evaluating simple arithmetic expressions"
        },
        {
            "metadata": {},
            "cell_type": "markdown",
            "source": "Some of the popular languages that Data Scientists use are:\n 1. Python\n 2. R\n 3. SQL\n 4. Julia\n 5. JavaScript\n 6. Scala"
        },
        {
            "metadata": {},
            "cell_type": "markdown",
            "source": "Some of the commonly used libraries used by Data Scientists include:\n 1. NumPy\n 2. Pandas\n 3. Keras\n 4. PyTorch\n 5. TensorFlow\n 6. MatPlotLib\n 7. PlotLy"
        },
        {
            "metadata": {},
            "cell_type": "markdown",
            "source": "\n\n\nData Science Tools |\n-----|\nJupyter Notebooks|\nApacheSpark|\nTensorFlow|\nGitHub|\n\n"
        },
        {
            "metadata": {},
            "cell_type": "markdown",
            "source": "### Below are a few examples of evaluating arithmetic expressions in Python"
        },
        {
            "metadata": {},
            "cell_type": "code",
            "source": "#This a simple arithmetic expression to mutiply then add integers\n\n(3*4)+5",
            "execution_count": 2,
            "outputs": [
                {
                    "output_type": "execute_result",
                    "execution_count": 2,
                    "data": {
                        "text/plain": "17"
                    },
                    "metadata": {}
                }
            ]
        },
        {
            "metadata": {},
            "cell_type": "code",
            "source": "#This will convert 200 minutes to hours by diving by 60\n\n200/60",
            "execution_count": 3,
            "outputs": [
                {
                    "output_type": "execute_result",
                    "execution_count": 3,
                    "data": {
                        "text/plain": "3.3333333333333335"
                    },
                    "metadata": {}
                }
            ]
        },
        {
            "metadata": {},
            "cell_type": "markdown",
            "source": "## Author\nDhruv Gupta"
        },
        {
            "metadata": {},
            "cell_type": "code",
            "source": "",
            "execution_count": null,
            "outputs": []
        }
    ],
    "metadata": {
        "kernelspec": {
            "name": "python3",
            "display_name": "Python 3.10",
            "language": "python"
        },
        "language_info": {
            "name": "python",
            "version": "3.10.6",
            "mimetype": "text/x-python",
            "codemirror_mode": {
                "name": "ipython",
                "version": 3
            },
            "pygments_lexer": "ipython3",
            "nbconvert_exporter": "python",
            "file_extension": ".py"
        }
    },
    "nbformat": 4,
    "nbformat_minor": 1
}